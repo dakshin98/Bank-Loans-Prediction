{
 "cells": [
  {
   "cell_type": "markdown",
   "id": "4f3db879",
   "metadata": {},
   "source": [
    "**Importing Libraries and Data Processing**"
   ]
  },
  {
   "cell_type": "code",
   "execution_count": 1,
   "id": "b52759f9",
   "metadata": {},
   "outputs": [],
   "source": [
    "import numpy as np\n",
    "import pandas as pd\n",
    "import matplotlib.pyplot as plt\n",
    "import seaborn as sns"
   ]
  },
  {
   "cell_type": "code",
   "execution_count": 2,
   "id": "b087be11",
   "metadata": {},
   "outputs": [
    {
     "data": {
      "text/html": [
       "<div>\n",
       "<style scoped>\n",
       "    .dataframe tbody tr th:only-of-type {\n",
       "        vertical-align: middle;\n",
       "    }\n",
       "\n",
       "    .dataframe tbody tr th {\n",
       "        vertical-align: top;\n",
       "    }\n",
       "\n",
       "    .dataframe thead th {\n",
       "        text-align: right;\n",
       "    }\n",
       "</style>\n",
       "<table border=\"1\" class=\"dataframe\">\n",
       "  <thead>\n",
       "    <tr style=\"text-align: right;\">\n",
       "      <th></th>\n",
       "      <th>age</th>\n",
       "      <th>ed</th>\n",
       "      <th>employ</th>\n",
       "      <th>address</th>\n",
       "      <th>income</th>\n",
       "      <th>debtinc</th>\n",
       "      <th>creddebt</th>\n",
       "      <th>othdebt</th>\n",
       "      <th>default</th>\n",
       "    </tr>\n",
       "  </thead>\n",
       "  <tbody>\n",
       "    <tr>\n",
       "      <th>0</th>\n",
       "      <td>41</td>\n",
       "      <td>3</td>\n",
       "      <td>17</td>\n",
       "      <td>12</td>\n",
       "      <td>176</td>\n",
       "      <td>9.3</td>\n",
       "      <td>11.36</td>\n",
       "      <td>5.01</td>\n",
       "      <td>1</td>\n",
       "    </tr>\n",
       "    <tr>\n",
       "      <th>1</th>\n",
       "      <td>27</td>\n",
       "      <td>1</td>\n",
       "      <td>10</td>\n",
       "      <td>6</td>\n",
       "      <td>31</td>\n",
       "      <td>17.3</td>\n",
       "      <td>1.36</td>\n",
       "      <td>4.00</td>\n",
       "      <td>0</td>\n",
       "    </tr>\n",
       "    <tr>\n",
       "      <th>2</th>\n",
       "      <td>40</td>\n",
       "      <td>1</td>\n",
       "      <td>15</td>\n",
       "      <td>14</td>\n",
       "      <td>55</td>\n",
       "      <td>5.5</td>\n",
       "      <td>0.86</td>\n",
       "      <td>2.17</td>\n",
       "      <td>0</td>\n",
       "    </tr>\n",
       "    <tr>\n",
       "      <th>3</th>\n",
       "      <td>41</td>\n",
       "      <td>1</td>\n",
       "      <td>15</td>\n",
       "      <td>14</td>\n",
       "      <td>120</td>\n",
       "      <td>2.9</td>\n",
       "      <td>2.66</td>\n",
       "      <td>0.82</td>\n",
       "      <td>0</td>\n",
       "    </tr>\n",
       "    <tr>\n",
       "      <th>4</th>\n",
       "      <td>24</td>\n",
       "      <td>2</td>\n",
       "      <td>2</td>\n",
       "      <td>0</td>\n",
       "      <td>28</td>\n",
       "      <td>17.3</td>\n",
       "      <td>1.79</td>\n",
       "      <td>3.06</td>\n",
       "      <td>1</td>\n",
       "    </tr>\n",
       "  </tbody>\n",
       "</table>\n",
       "</div>"
      ],
      "text/plain": [
       "   age  ed  employ  address  income  debtinc  creddebt  othdebt  default\n",
       "0   41   3      17       12     176      9.3     11.36     5.01        1\n",
       "1   27   1      10        6      31     17.3      1.36     4.00        0\n",
       "2   40   1      15       14      55      5.5      0.86     2.17        0\n",
       "3   41   1      15       14     120      2.9      2.66     0.82        0\n",
       "4   24   2       2        0      28     17.3      1.79     3.06        1"
      ]
     },
     "execution_count": 2,
     "metadata": {},
     "output_type": "execute_result"
    }
   ],
   "source": [
    "df=pd.read_csv('C:\\\\Post Graduate Course in Data Analytics\\\\MACHINE LEARNING\\\\SVM\\\\bankloan.csv')\n",
    "df.head()"
   ]
  },
  {
   "cell_type": "code",
   "execution_count": 3,
   "id": "e8ff0498",
   "metadata": {},
   "outputs": [
    {
     "name": "stdout",
     "output_type": "stream",
     "text": [
      "<class 'pandas.core.frame.DataFrame'>\n",
      "RangeIndex: 700 entries, 0 to 699\n",
      "Data columns (total 9 columns):\n",
      " #   Column    Non-Null Count  Dtype  \n",
      "---  ------    --------------  -----  \n",
      " 0   age       700 non-null    int64  \n",
      " 1   ed        700 non-null    int64  \n",
      " 2   employ    700 non-null    int64  \n",
      " 3   address   700 non-null    int64  \n",
      " 4   income    700 non-null    int64  \n",
      " 5   debtinc   700 non-null    float64\n",
      " 6   creddebt  700 non-null    float64\n",
      " 7   othdebt   700 non-null    float64\n",
      " 8   default   700 non-null    int64  \n",
      "dtypes: float64(3), int64(6)\n",
      "memory usage: 49.3 KB\n"
     ]
    }
   ],
   "source": [
    "df.info()"
   ]
  },
  {
   "cell_type": "code",
   "execution_count": 4,
   "id": "8d337487",
   "metadata": {},
   "outputs": [
    {
     "data": {
      "text/plain": [
       "(700, 9)"
      ]
     },
     "execution_count": 4,
     "metadata": {},
     "output_type": "execute_result"
    }
   ],
   "source": [
    "df.shape"
   ]
  },
  {
   "cell_type": "code",
   "execution_count": 5,
   "id": "cc581374",
   "metadata": {},
   "outputs": [
    {
     "data": {
      "text/html": [
       "<div>\n",
       "<style scoped>\n",
       "    .dataframe tbody tr th:only-of-type {\n",
       "        vertical-align: middle;\n",
       "    }\n",
       "\n",
       "    .dataframe tbody tr th {\n",
       "        vertical-align: top;\n",
       "    }\n",
       "\n",
       "    .dataframe thead th {\n",
       "        text-align: right;\n",
       "    }\n",
       "</style>\n",
       "<table border=\"1\" class=\"dataframe\">\n",
       "  <thead>\n",
       "    <tr style=\"text-align: right;\">\n",
       "      <th></th>\n",
       "      <th>age</th>\n",
       "      <th>ed</th>\n",
       "      <th>employ</th>\n",
       "      <th>address</th>\n",
       "      <th>income</th>\n",
       "      <th>debtinc</th>\n",
       "      <th>creddebt</th>\n",
       "      <th>othdebt</th>\n",
       "      <th>default</th>\n",
       "    </tr>\n",
       "  </thead>\n",
       "  <tbody>\n",
       "    <tr>\n",
       "      <th>count</th>\n",
       "      <td>700.000000</td>\n",
       "      <td>700.000000</td>\n",
       "      <td>700.000000</td>\n",
       "      <td>700.000000</td>\n",
       "      <td>700.000000</td>\n",
       "      <td>700.000000</td>\n",
       "      <td>700.000000</td>\n",
       "      <td>700.000000</td>\n",
       "      <td>700.000000</td>\n",
       "    </tr>\n",
       "    <tr>\n",
       "      <th>mean</th>\n",
       "      <td>34.860000</td>\n",
       "      <td>1.722857</td>\n",
       "      <td>8.388571</td>\n",
       "      <td>8.278571</td>\n",
       "      <td>45.601429</td>\n",
       "      <td>10.260571</td>\n",
       "      <td>1.553457</td>\n",
       "      <td>3.058229</td>\n",
       "      <td>0.261429</td>\n",
       "    </tr>\n",
       "    <tr>\n",
       "      <th>std</th>\n",
       "      <td>7.997342</td>\n",
       "      <td>0.928206</td>\n",
       "      <td>6.658039</td>\n",
       "      <td>6.824877</td>\n",
       "      <td>36.814226</td>\n",
       "      <td>6.827234</td>\n",
       "      <td>2.117209</td>\n",
       "      <td>3.287524</td>\n",
       "      <td>0.439727</td>\n",
       "    </tr>\n",
       "    <tr>\n",
       "      <th>min</th>\n",
       "      <td>20.000000</td>\n",
       "      <td>1.000000</td>\n",
       "      <td>0.000000</td>\n",
       "      <td>0.000000</td>\n",
       "      <td>14.000000</td>\n",
       "      <td>0.400000</td>\n",
       "      <td>0.010000</td>\n",
       "      <td>0.050000</td>\n",
       "      <td>0.000000</td>\n",
       "    </tr>\n",
       "    <tr>\n",
       "      <th>25%</th>\n",
       "      <td>29.000000</td>\n",
       "      <td>1.000000</td>\n",
       "      <td>3.000000</td>\n",
       "      <td>3.000000</td>\n",
       "      <td>24.000000</td>\n",
       "      <td>5.000000</td>\n",
       "      <td>0.370000</td>\n",
       "      <td>1.047500</td>\n",
       "      <td>0.000000</td>\n",
       "    </tr>\n",
       "    <tr>\n",
       "      <th>50%</th>\n",
       "      <td>34.000000</td>\n",
       "      <td>1.000000</td>\n",
       "      <td>7.000000</td>\n",
       "      <td>7.000000</td>\n",
       "      <td>34.000000</td>\n",
       "      <td>8.600000</td>\n",
       "      <td>0.855000</td>\n",
       "      <td>1.985000</td>\n",
       "      <td>0.000000</td>\n",
       "    </tr>\n",
       "    <tr>\n",
       "      <th>75%</th>\n",
       "      <td>40.000000</td>\n",
       "      <td>2.000000</td>\n",
       "      <td>12.000000</td>\n",
       "      <td>12.000000</td>\n",
       "      <td>55.000000</td>\n",
       "      <td>14.125000</td>\n",
       "      <td>1.905000</td>\n",
       "      <td>3.927500</td>\n",
       "      <td>1.000000</td>\n",
       "    </tr>\n",
       "    <tr>\n",
       "      <th>max</th>\n",
       "      <td>56.000000</td>\n",
       "      <td>5.000000</td>\n",
       "      <td>31.000000</td>\n",
       "      <td>34.000000</td>\n",
       "      <td>446.000000</td>\n",
       "      <td>41.300000</td>\n",
       "      <td>20.560000</td>\n",
       "      <td>27.030000</td>\n",
       "      <td>1.000000</td>\n",
       "    </tr>\n",
       "  </tbody>\n",
       "</table>\n",
       "</div>"
      ],
      "text/plain": [
       "              age          ed      employ     address      income     debtinc  \\\n",
       "count  700.000000  700.000000  700.000000  700.000000  700.000000  700.000000   \n",
       "mean    34.860000    1.722857    8.388571    8.278571   45.601429   10.260571   \n",
       "std      7.997342    0.928206    6.658039    6.824877   36.814226    6.827234   \n",
       "min     20.000000    1.000000    0.000000    0.000000   14.000000    0.400000   \n",
       "25%     29.000000    1.000000    3.000000    3.000000   24.000000    5.000000   \n",
       "50%     34.000000    1.000000    7.000000    7.000000   34.000000    8.600000   \n",
       "75%     40.000000    2.000000   12.000000   12.000000   55.000000   14.125000   \n",
       "max     56.000000    5.000000   31.000000   34.000000  446.000000   41.300000   \n",
       "\n",
       "         creddebt     othdebt     default  \n",
       "count  700.000000  700.000000  700.000000  \n",
       "mean     1.553457    3.058229    0.261429  \n",
       "std      2.117209    3.287524    0.439727  \n",
       "min      0.010000    0.050000    0.000000  \n",
       "25%      0.370000    1.047500    0.000000  \n",
       "50%      0.855000    1.985000    0.000000  \n",
       "75%      1.905000    3.927500    1.000000  \n",
       "max     20.560000   27.030000    1.000000  "
      ]
     },
     "execution_count": 5,
     "metadata": {},
     "output_type": "execute_result"
    }
   ],
   "source": [
    "df.describe()"
   ]
  },
  {
   "cell_type": "code",
   "execution_count": 6,
   "id": "86809237",
   "metadata": {},
   "outputs": [
    {
     "data": {
      "text/plain": [
       "age         0\n",
       "ed          0\n",
       "employ      0\n",
       "address     0\n",
       "income      0\n",
       "debtinc     0\n",
       "creddebt    0\n",
       "othdebt     0\n",
       "default     0\n",
       "dtype: int64"
      ]
     },
     "execution_count": 6,
     "metadata": {},
     "output_type": "execute_result"
    }
   ],
   "source": [
    "df.isnull().sum()"
   ]
  },
  {
   "cell_type": "code",
   "execution_count": 7,
   "id": "0f945c5e",
   "metadata": {},
   "outputs": [],
   "source": [
    "df.drop(['address','ed','debtinc','employ'],axis=1,inplace=True)"
   ]
  },
  {
   "cell_type": "code",
   "execution_count": 8,
   "id": "3066e746",
   "metadata": {},
   "outputs": [
    {
     "data": {
      "text/html": [
       "<div>\n",
       "<style scoped>\n",
       "    .dataframe tbody tr th:only-of-type {\n",
       "        vertical-align: middle;\n",
       "    }\n",
       "\n",
       "    .dataframe tbody tr th {\n",
       "        vertical-align: top;\n",
       "    }\n",
       "\n",
       "    .dataframe thead th {\n",
       "        text-align: right;\n",
       "    }\n",
       "</style>\n",
       "<table border=\"1\" class=\"dataframe\">\n",
       "  <thead>\n",
       "    <tr style=\"text-align: right;\">\n",
       "      <th></th>\n",
       "      <th>age</th>\n",
       "      <th>income</th>\n",
       "      <th>creddebt</th>\n",
       "      <th>othdebt</th>\n",
       "      <th>default</th>\n",
       "    </tr>\n",
       "  </thead>\n",
       "  <tbody>\n",
       "    <tr>\n",
       "      <th>0</th>\n",
       "      <td>41</td>\n",
       "      <td>176</td>\n",
       "      <td>11.36</td>\n",
       "      <td>5.01</td>\n",
       "      <td>1</td>\n",
       "    </tr>\n",
       "    <tr>\n",
       "      <th>1</th>\n",
       "      <td>27</td>\n",
       "      <td>31</td>\n",
       "      <td>1.36</td>\n",
       "      <td>4.00</td>\n",
       "      <td>0</td>\n",
       "    </tr>\n",
       "    <tr>\n",
       "      <th>2</th>\n",
       "      <td>40</td>\n",
       "      <td>55</td>\n",
       "      <td>0.86</td>\n",
       "      <td>2.17</td>\n",
       "      <td>0</td>\n",
       "    </tr>\n",
       "    <tr>\n",
       "      <th>3</th>\n",
       "      <td>41</td>\n",
       "      <td>120</td>\n",
       "      <td>2.66</td>\n",
       "      <td>0.82</td>\n",
       "      <td>0</td>\n",
       "    </tr>\n",
       "    <tr>\n",
       "      <th>4</th>\n",
       "      <td>24</td>\n",
       "      <td>28</td>\n",
       "      <td>1.79</td>\n",
       "      <td>3.06</td>\n",
       "      <td>1</td>\n",
       "    </tr>\n",
       "  </tbody>\n",
       "</table>\n",
       "</div>"
      ],
      "text/plain": [
       "   age  income  creddebt  othdebt  default\n",
       "0   41     176     11.36     5.01        1\n",
       "1   27      31      1.36     4.00        0\n",
       "2   40      55      0.86     2.17        0\n",
       "3   41     120      2.66     0.82        0\n",
       "4   24      28      1.79     3.06        1"
      ]
     },
     "execution_count": 8,
     "metadata": {},
     "output_type": "execute_result"
    }
   ],
   "source": [
    "df.head()"
   ]
  },
  {
   "cell_type": "code",
   "execution_count": 9,
   "id": "debfce74",
   "metadata": {},
   "outputs": [
    {
     "name": "stdout",
     "output_type": "stream",
     "text": [
      "(700, 4)\n",
      "(700,)\n"
     ]
    }
   ],
   "source": [
    "x=df.iloc[:,0:4]\n",
    "y=df['default']\n",
    "print(x.shape)\n",
    "print(y.shape)"
   ]
  },
  {
   "cell_type": "markdown",
   "id": "1078929c",
   "metadata": {},
   "source": [
    "**Model BUilding**"
   ]
  },
  {
   "cell_type": "code",
   "execution_count": 10,
   "id": "6a52368f",
   "metadata": {},
   "outputs": [],
   "source": [
    "from sklearn.model_selection import train_test_split"
   ]
  },
  {
   "cell_type": "code",
   "execution_count": 11,
   "id": "6f8ed805",
   "metadata": {},
   "outputs": [],
   "source": [
    "xtrain,xtest,ytrain,ytest=train_test_split(x,y,test_size=0.4,random_state=0)"
   ]
  },
  {
   "cell_type": "code",
   "execution_count": 12,
   "id": "ffd60a4b",
   "metadata": {},
   "outputs": [],
   "source": [
    "from sklearn import svm\n",
    "from sklearn.svm import SVC\n",
    "from sklearn.metrics import confusion_matrix,classification_report,accuracy_score,roc_curve,auc"
   ]
  },
  {
   "cell_type": "code",
   "execution_count": 13,
   "id": "7c47bc39",
   "metadata": {},
   "outputs": [
    {
     "name": "stdout",
     "output_type": "stream",
     "text": [
      "SVC(C=1, gamma='auto', kernel='linear', probability=True)\n"
     ]
    }
   ],
   "source": [
    "svct=SVC(kernel='linear',C=1,gamma='auto',probability=True).fit(xtrain,ytrain)\n",
    "print(svct)"
   ]
  },
  {
   "cell_type": "code",
   "execution_count": 14,
   "id": "e618713d",
   "metadata": {},
   "outputs": [
    {
     "data": {
      "text/plain": [
       "array([0, 1, 0, 1, 0, 0, 0, 0, 0, 0, 0, 0, 0, 0, 0, 0, 0, 0, 0, 0, 0, 0,\n",
       "       0, 0, 0, 0, 0, 0, 1, 0, 0, 0, 0, 0, 0, 0, 0, 0, 0, 0, 0, 0, 0, 0,\n",
       "       0, 0, 0, 0, 0, 0, 0, 0, 0, 1, 0, 0, 0, 0, 0, 0, 0, 0, 0, 1, 0, 0,\n",
       "       0, 0, 0, 0, 0, 0, 0, 0, 0, 0, 0, 0, 0, 0, 0, 0, 0, 0, 0, 0, 0, 0,\n",
       "       0, 0, 0, 0, 0, 0, 0, 1, 0, 0, 0, 0, 0, 0, 0, 0, 0, 0, 1, 0, 0, 0,\n",
       "       0, 1, 0, 0, 0, 1, 0, 0, 0, 0, 0, 0, 0, 0, 0, 0, 0, 0, 0, 1, 0, 0,\n",
       "       0, 0, 0, 0, 0, 0, 0, 0, 0, 0, 0, 0, 0, 0, 0, 1, 0, 0, 0, 0, 0, 0,\n",
       "       0, 1, 0, 0, 0, 1, 0, 0, 0, 0, 0, 0, 0, 0, 0, 0, 0, 0, 0, 0, 0, 1,\n",
       "       0, 0, 0, 0, 0, 0, 1, 0, 0, 0, 0, 0, 0, 0, 0, 1, 0, 0, 1, 0, 0, 0,\n",
       "       0, 0, 0, 0, 0, 0, 0, 0, 0, 0, 0, 0, 1, 0, 1, 0, 0, 0, 0, 1, 1, 0,\n",
       "       0, 0, 0, 0, 0, 0, 0, 0, 0, 0, 0, 0, 0, 0, 0, 0, 0, 0, 0, 0, 0, 0,\n",
       "       0, 0, 0, 0, 0, 0, 1, 0, 0, 0, 1, 0, 0, 0, 0, 0, 0, 0, 0, 0, 0, 1,\n",
       "       0, 0, 0, 0, 0, 1, 0, 0, 0, 0, 0, 0, 0, 1, 0, 0], dtype=int64)"
      ]
     },
     "execution_count": 14,
     "metadata": {},
     "output_type": "execute_result"
    }
   ],
   "source": [
    "ypred=svct.predict(xtest)\n",
    "ypred"
   ]
  },
  {
   "cell_type": "markdown",
   "id": "7230d02b",
   "metadata": {},
   "source": [
    "**Classifcation_report,Confusion Matrix and ROC Curve**"
   ]
  },
  {
   "cell_type": "code",
   "execution_count": 15,
   "id": "99f8b1fc",
   "metadata": {},
   "outputs": [
    {
     "data": {
      "text/plain": [
       "array([[194,  12],\n",
       "       [ 60,  14]], dtype=int64)"
      ]
     },
     "execution_count": 15,
     "metadata": {},
     "output_type": "execute_result"
    }
   ],
   "source": [
    "confusion_matrix(ytest,ypred)"
   ]
  },
  {
   "cell_type": "code",
   "execution_count": 16,
   "id": "e698a3f1",
   "metadata": {},
   "outputs": [
    {
     "name": "stdout",
     "output_type": "stream",
     "text": [
      "              precision    recall  f1-score   support\n",
      "\n",
      "           0       0.76      0.94      0.84       206\n",
      "           1       0.54      0.19      0.28        74\n",
      "\n",
      "    accuracy                           0.74       280\n",
      "   macro avg       0.65      0.57      0.56       280\n",
      "weighted avg       0.70      0.74      0.69       280\n",
      "\n"
     ]
    }
   ],
   "source": [
    "print(classification_report(ytest,ypred))"
   ]
  },
  {
   "cell_type": "code",
   "execution_count": 17,
   "id": "b6c0de51",
   "metadata": {},
   "outputs": [
    {
     "data": {
      "text/plain": [
       "array([0.18347063, 0.58004068, 0.23201665, 0.72896233, 0.22841159,\n",
       "       0.19455482, 0.48393393, 0.28966974, 0.06970298, 0.04743363,\n",
       "       0.0838683 , 0.21350853, 0.14789696, 0.18278962, 0.33107682,\n",
       "       0.1013131 , 0.14614059, 0.03347366, 0.51570189, 0.08347786,\n",
       "       0.13428731, 0.48190919, 0.21668451, 0.11235679, 0.28470893,\n",
       "       0.1685232 , 0.27796573, 0.18575475, 0.57485745, 0.37036805,\n",
       "       0.26292978, 0.27232821, 0.18544827, 0.52121841, 0.12912646,\n",
       "       0.16642478, 0.08096631, 0.42270658, 0.07795229, 0.34255575,\n",
       "       0.1169017 , 0.18168191, 0.15093876, 0.08608221, 0.29038685,\n",
       "       0.36185484, 0.25131016, 0.13286765, 0.19593458, 0.22390476,\n",
       "       0.3535736 , 0.17095906, 0.20184649, 0.65044981, 0.28383431,\n",
       "       0.26908751, 0.16230954, 0.04489654, 0.43698467, 0.14237043,\n",
       "       0.12491799, 0.28074297, 0.18021301, 0.77428279, 0.21163562,\n",
       "       0.19930928, 0.4846991 , 0.16162192, 0.22482209, 0.12547001,\n",
       "       0.17808714, 0.20945885, 0.31139988, 0.17902415, 0.20621464,\n",
       "       0.40865715, 0.25640654, 0.27056906, 0.20115281, 0.25146426,\n",
       "       0.09364805, 0.53777827, 0.13690154, 0.30594918, 0.49326363,\n",
       "       0.30082282, 0.4913737 , 0.0879446 , 0.50883831, 0.42554989,\n",
       "       0.16567064, 0.2473638 , 0.14892152, 0.24607847, 0.48808399,\n",
       "       0.86422474, 0.31962065, 0.30422314, 0.41514722, 0.26039359,\n",
       "       0.18416779, 0.27418238, 0.19982987, 0.28528048, 0.31511616,\n",
       "       0.21883955, 0.58939189, 0.22154495, 0.23752865, 0.09499588,\n",
       "       0.21736753, 0.7291981 , 0.12645075, 0.35301297, 0.11532028,\n",
       "       0.99671867, 0.23462722, 0.23671405, 0.0306693 , 0.3313732 ,\n",
       "       0.38340784, 0.17969336, 0.13207973, 0.10099924, 0.03783793,\n",
       "       0.11725627, 0.31586902, 0.1344046 , 0.3109412 , 0.99526331,\n",
       "       0.20251692, 0.11282128, 0.21547416, 0.12372711, 0.17879387,\n",
       "       0.15592618, 0.16996075, 0.24662283, 0.36784201, 0.09998196,\n",
       "       0.26620608, 0.18252396, 0.21690648, 0.21358628, 0.14734854,\n",
       "       0.09487564, 0.36243318, 0.64016629, 0.12693626, 0.14239439,\n",
       "       0.14692646, 0.08038402, 0.09439697, 0.11579432, 0.22839282,\n",
       "       0.89600477, 0.21353493, 0.2862095 , 0.20525266, 0.57911541,\n",
       "       0.23100269, 0.03793105, 0.14395734, 0.14450013, 0.24989632,\n",
       "       0.24318367, 0.4540701 , 0.23838854, 0.14006939, 0.54547171,\n",
       "       0.12001281, 0.26059823, 0.38476301, 0.23119906, 0.45876956,\n",
       "       0.7885617 , 0.10537373, 0.17007115, 0.31774182, 0.20789868,\n",
       "       0.20477937, 0.46287783, 0.60680806, 0.20082694, 0.41785506,\n",
       "       0.2627216 , 0.359648  , 0.3003154 , 0.2195589 , 0.23246797,\n",
       "       0.2076838 , 0.62285391, 0.11142817, 0.17755291, 0.82632983,\n",
       "       0.12995943, 0.20930498, 0.28128819, 0.2010989 , 0.18988296,\n",
       "       0.16187326, 0.23813626, 0.10322536, 0.23534144, 0.04082253,\n",
       "       0.2194445 , 0.13250198, 0.16372739, 0.20711004, 0.29821906,\n",
       "       0.72677864, 0.07135791, 0.62031659, 0.10011867, 0.17241543,\n",
       "       0.21597915, 0.2221092 , 0.96831996, 0.99584357, 0.18872865,\n",
       "       0.16990656, 0.36821733, 0.37097076, 0.21774563, 0.16535007,\n",
       "       0.10254767, 0.45916062, 0.14092591, 0.07835342, 0.27987974,\n",
       "       0.21220745, 0.11328726, 0.20208988, 0.12874298, 0.18465192,\n",
       "       0.17479935, 0.13945467, 0.21547346, 0.19160867, 0.12322948,\n",
       "       0.24856047, 0.32340198, 0.14737418, 0.29252568, 0.10732883,\n",
       "       0.0569378 , 0.14392827, 0.21015011, 0.61905543, 0.1444359 ,\n",
       "       0.33424924, 0.34927016, 0.97087307, 0.12711653, 0.16277332,\n",
       "       0.15700643, 0.12347818, 0.43099593, 0.18153617, 0.15439826,\n",
       "       0.27786531, 0.18773636, 0.08185584, 0.74238094, 0.22008515,\n",
       "       0.21933076, 0.54112865, 0.14112845, 0.44314541, 0.88820212,\n",
       "       0.14517722, 0.20028679, 0.20373365, 0.35469708, 0.33621631,\n",
       "       0.39700803, 0.13775141, 0.59135585, 0.23100156, 0.20329553])"
      ]
     },
     "execution_count": 17,
     "metadata": {},
     "output_type": "execute_result"
    }
   ],
   "source": [
    "preds1=svct.predict_proba(xtest)[:,1]\n",
    "preds1"
   ]
  },
  {
   "cell_type": "code",
   "execution_count": 22,
   "id": "4504663c",
   "metadata": {},
   "outputs": [
    {
     "data": {
      "image/png": "[encoded data removed]",
      "text/plain": [
       "<Figure size 432x288 with 1 Axes>"
      ]
     },
     "metadata": {
      "needs_background": "light"
     },
     "output_type": "display_data"
    }
   ],
   "source": [
    "plt.figure()\n",
    "plt.plot(fpr1,tpr1,color='black',lw=2,label='ROC Curve(area=%0.2f)'%auc1)\n",
    "plt.plot([0,1],[0,1],color='blue',lw=2,linestyle='--')\n",
    "plt.xlim([0.0,1.0])\n",
    "plt.ylim([0.0,1.0])\n",
    "plt.xlabel('False Positive Rate')\n",
    "plt.ylabel('True Positive Rate')\n",
    "plt.title('ROC Curve')\n",
    "plt.legend(loc='lower right')\n",
    "plt.show()"
   ]
  },
  {
   "cell_type": "code",
   "execution_count": 19,
   "id": "dd759ec8",
   "metadata": {},
   "outputs": [],
   "source": [
    "fpr1,tpr1,thresholds1=roc_curve(ytest,preds1)"
   ]
  },
  {
   "cell_type": "code",
   "execution_count": 20,
   "id": "5cbbda8d",
   "metadata": {},
   "outputs": [],
   "source": [
    "auc1=auc(fpr1,tpr1)"
   ]
  },
  {
   "cell_type": "code",
   "execution_count": 21,
   "id": "39992bc3",
   "metadata": {},
   "outputs": [
    {
     "data": {
      "text/plain": [
       "0.6995539228548938"
      ]
     },
     "execution_count": 21,
     "metadata": {},
     "output_type": "execute_result"
    }
   ],
   "source": [
    "auc1"
   ]
  }
 ],
 "metadata": {
  "kernelspec": {
   "display_name": "Python 3",
   "language": "python",
   "name": "python3"
  },
  "language_info": {
   "codemirror_mode": {
    "name": "ipython",
    "version": 3
   },
   "file_extension": ".py",
   "mimetype": "text/x-python",
   "name": "python",
   "nbconvert_exporter": "python",
   "pygments_lexer": "ipython3",
   "version": "3.8.8"
  }
 },
 "nbformat": 4,
 "nbformat_minor": 5
}
